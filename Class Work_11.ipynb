{
 "cells": [
  {
   "cell_type": "markdown",
   "metadata": {},
   "source": [
    "1*. Short Hand & If Else / \n",
    "#*. Ternary Operators\n",
    "\n",
    "number is less than 10"
   ]
  },
  {
   "cell_type": "code",
   "execution_count": 1,
   "metadata": {},
   "outputs": [
    {
     "name": "stdout",
     "output_type": "stream",
     "text": [
      "number is less than 10\n"
     ]
    }
   ],
   "source": [
    "num: int = 9\n",
    "\n",
    "if num > 10:\n",
    "    print(\"number is greater than 10\")\n",
    "    num = num + 10\n",
    "    print(\"num>>>\",num)\n",
    "else:\n",
    "    print(\"number is less than 10\")"
   ]
  },
  {
   "cell_type": "markdown",
   "metadata": {},
   "source": [
    "# if conditon:\n",
    "#     statement\n",
    "# else :\n",
    "#  statement\n",
    "\n",
    "# ifstatement if conditon else elsestatement"
   ]
  },
  {
   "cell_type": "code",
   "execution_count": 2,
   "metadata": {},
   "outputs": [
    {
     "name": "stdout",
     "output_type": "stream",
     "text": [
      "number is less than 10\n"
     ]
    }
   ],
   "source": [
    "num : int = 9\n",
    "print(\"num is greater than 10\") if num > 10 else print(\"number is less than 10\")"
   ]
  },
  {
   "cell_type": "markdown",
   "metadata": {},
   "source": [
    "\n",
    "# num2 = ager conditon true to value 20 wrna value 10"
   ]
  },
  {
   "cell_type": "code",
   "execution_count": 3,
   "metadata": {},
   "outputs": [
    {
     "name": "stdout",
     "output_type": "stream",
     "text": [
      "num2>>> 20\n"
     ]
    }
   ],
   "source": [
    "num = 5\n",
    "\n",
    "num2 = 20 if num < 10 else 5\n",
    "\n",
    "\n",
    "print(\"num2>>>\",num2)"
   ]
  },
  {
   "cell_type": "markdown",
   "metadata": {},
   "source": [
    "2*. Enumerated Function\n",
    "#   Index :\n",
    "#   0   ,     1     , 2\n",
    "#   Names = \n",
    "#   \"All\",   \"ABU\",  \"AAA\""
   ]
  },
  {
   "cell_type": "code",
   "execution_count": 7,
   "metadata": {},
   "outputs": [
    {
     "name": "stdout",
     "output_type": "stream",
     "text": [
      "['All', 'ABU', 'AAA']\n",
      "index 0\n",
      "All\n",
      "index 1\n",
      "ABU\n",
      "index 2\n",
      "AAA\n"
     ]
    }
   ],
   "source": [
    "names = [\"All\", \"ABU\",\"AAA\"]\n",
    "\n",
    "print(names)\n",
    "\n",
    "index = 0\n",
    "for name in names:\n",
    "   print(\"index\",index)\n",
    "   print(name)\n",
    "   index = index + 1"
   ]
  },
  {
   "cell_type": "code",
   "execution_count": 8,
   "metadata": {},
   "outputs": [
    {
     "name": "stdout",
     "output_type": "stream",
     "text": [
      "name0: All\n",
      "name1: ABU\n",
      "name2: AAA\n"
     ]
    }
   ],
   "source": [
    "names = [\"All\", \"ABU\",\"AAA\"]\n",
    "\n",
    "index = 0\n",
    "for name in names:\n",
    "    print(f\"name{index}: {name}\")\n",
    "    index = index+ 1"
   ]
  },
  {
   "cell_type": "code",
   "execution_count": 52,
   "metadata": {},
   "outputs": [
    {
     "name": "stdout",
     "output_type": "stream",
     "text": [
      "name0: All\n",
      "name0: ABU\n",
      "name0: AAA\n"
     ]
    }
   ],
   "source": [
    "names = [\"All\", \"ABU\",\"AAA\"]\n",
    "\n",
    "names[1] == \"ABU\"\n",
    "index = 0\n",
    "for name in names:\n",
    "    print(f\"name{index}: {name}\")\n",
    "index = index+ 1\n",
    "\n",
    "[(0,\"All\"),(1,\"ABU\"),(2,\"AAA\")]\n",
    "for index,name in enumerate(names):\n",
    "    names[0] = \"All 1st time loop\"\n",
    "    names[1] = \"ABU 2nd time loop\"\n",
    "    \"ABU\" ==\"ABU\"\n"
   ]
  },
  {
   "cell_type": "code",
   "execution_count": 58,
   "metadata": {},
   "outputs": [
    {
     "name": "stdout",
     "output_type": "stream",
     "text": [
      "name0: All 1st time loop\n",
      "name0: ABU 2nd time loop\n",
      "name0: AAA\n"
     ]
    }
   ],
   "source": [
    "ames = [\"All\", \"ABU\",\"AAA\"]\n",
    "\n",
    "names[1] == \"ABU\"\n",
    "index = 0\n",
    "for name in names:\n",
    "    print(f\"name{index}: {name}\")\n",
    "index = index+ 1\n",
    "\n",
    "[(0,\"All\"),(1,\"ABU\"),(2,\"AAA\")]\n",
    "for index,name in enumerate(names):\n",
    "    names[0] = \"All 1st time loop\"\n",
    "    names[1] = \"ABU 2nd time loop\"\n",
    "    \"ABU\" ==\"ABU\""
   ]
  },
  {
   "cell_type": "code",
   "execution_count": 56,
   "metadata": {},
   "outputs": [
    {
     "name": "stdout",
     "output_type": "stream",
     "text": [
      "name0: All\n",
      "Assalamualaikum ABU\n",
      "name1: ABU\n",
      "name2: AAA\n"
     ]
    }
   ],
   "source": [
    "names = [\"All\", \"ABU\",\"AAA\"]\n",
    "\n",
    "for index,name in enumerate(names):\n",
    "    if names[index] == \"ABU\":\n",
    "        print(\"Assalamualaikum ABU\")\n",
    "\n",
    "    print(f\"name{index}: {name}\")"
   ]
  },
  {
   "cell_type": "markdown",
   "metadata": {},
   "source": [
    "2*. Map, Filter, Reduce Functions"
   ]
  },
  {
   "cell_type": "code",
   "execution_count": 59,
   "metadata": {},
   "outputs": [
    {
     "name": "stdout",
     "output_type": "stream",
     "text": [
      "new_list before for loop []\n",
      "num>>> 1\n",
      "calling square function\n",
      "num_sqr>>> 1\n",
      "adding element to list\n",
      "4\n",
      "num>>> 2\n",
      "calling square function\n",
      "num_sqr>>> 4\n",
      "adding element to list\n",
      "4\n",
      "num>>> 3\n",
      "calling square function\n",
      "num_sqr>>> 9\n",
      "adding element to list\n",
      "4\n",
      "num>>> 4\n",
      "calling square function\n",
      "num_sqr>>> 16\n",
      "adding element to list\n",
      "4\n",
      "num>>> 5\n",
      "calling square function\n",
      "num_sqr>>> 25\n",
      "adding element to list\n",
      "4\n",
      "new_list after for loop [1, 4, 9, 16, 25]\n"
     ]
    }
   ],
   "source": [
    "numbers = [1,2,3,4,5]\n",
    "#         [1, 4, 9, 16, 25]\n",
    "\n",
    "def square(num: int) :\n",
    "    return num * num\n",
    "\n",
    "new_list = []\n",
    "print(\"new_list before for loop\",new_list)\n",
    "for num in numbers:\n",
    "    print(\"num>>>\",num)\n",
    "    print(\"calling square function\")\n",
    "    num_sqr = square(num)\n",
    "    print(\"num_sqr>>>\",num_sqr)\n",
    "    print(\"adding element to list\")\n",
    "    new_list.append(num_sqr)\n",
    "    print(square(2))\n",
    "\n",
    "print(\"new_list after for loop\",new_list)"
   ]
  },
  {
   "cell_type": "markdown",
   "metadata": {},
   "source": [
    "1*. Map\n",
    "\n",
    "#*. Numbers [1, 2, 3, 4, 5]\n",
    "#*. New_list [1, 4, 9, 16, 25]"
   ]
  },
  {
   "cell_type": "code",
   "execution_count": 60,
   "metadata": {},
   "outputs": [
    {
     "name": "stdout",
     "output_type": "stream",
     "text": [
      "numbers [1, 2, 3, 4, 5]\n",
      "new_list [1, 4, 9, 16, 25]\n"
     ]
    }
   ],
   "source": [
    "numbers = [1,2,3,4,5]\n",
    "#         [1, 4, 9, 16, 25]\n",
    "\n",
    "def square(num: int) :\n",
    "    return num * num\n",
    "\n",
    "new_list =list(map(square,numbers))\n",
    "print(\"numbers\",numbers)\n",
    "print(\"new_list\",new_list)"
   ]
  },
  {
   "cell_type": "markdown",
   "metadata": {},
   "source": [
    "2*. Filters\n",
    "\n",
    "#*. Filtered_List [4, 5]\n",
    "#*. Filtered_List \n",
    "#*. >>> False, False, False, True, True"
   ]
  },
  {
   "cell_type": "code",
   "execution_count": 61,
   "metadata": {},
   "outputs": [
    {
     "name": "stdout",
     "output_type": "stream",
     "text": [
      "filtered_list [4, 5]\n"
     ]
    }
   ],
   "source": [
    "numbers = [1,2,3,4,5]\n",
    "\n",
    "def filter_function(num: int):\n",
    "    return num > 3\n",
    "\n",
    "\n",
    "filtered_list = list(filter(filter_function,numbers))\n",
    "print(\"filtered_list\",filtered_list)"
   ]
  },
  {
   "cell_type": "code",
   "execution_count": 62,
   "metadata": {},
   "outputs": [
    {
     "name": "stdout",
     "output_type": "stream",
     "text": [
      "filtered_list [False, False, False, True, True]\n"
     ]
    }
   ],
   "source": [
    "numbers = [1,2,3,4,5]\n",
    "\n",
    "def filter_function(num: int):\n",
    "    return num > 3\n",
    "\n",
    "\n",
    "filtered_list = list(map(filter_function,numbers))\n",
    "print(\"filtered_list\",filtered_list)"
   ]
  },
  {
   "cell_type": "markdown",
   "metadata": {},
   "source": [
    "3*. Map Filter Reduce Functions\n",
    "\n",
    "#*. Convert The Filter Function into Map_List\n",
    "#*. >>> False, False, False, True, True"
   ]
  },
  {
   "cell_type": "code",
   "execution_count": 63,
   "metadata": {},
   "outputs": [
    {
     "name": "stdout",
     "output_type": "stream",
     "text": [
      "map_list>>> [False, False, False, True, True]\n"
     ]
    }
   ],
   "source": [
    "numbers = [1,2,3,4,5]\n",
    "\n",
    "def map_function(num:int):\n",
    "    return num > 3\n",
    "\n",
    "map_list = list(map(map_function,numbers))\n",
    "print(\"map_list>>>\",map_list)"
   ]
  }
 ],
 "metadata": {
  "kernelspec": {
   "display_name": "Python 3",
   "language": "python",
   "name": "python3"
  },
  "language_info": {
   "codemirror_mode": {
    "name": "ipython",
    "version": 3
   },
   "file_extension": ".py",
   "mimetype": "text/x-python",
   "name": "python",
   "nbconvert_exporter": "python",
   "pygments_lexer": "ipython3",
   "version": "3.12.9"
  }
 },
 "nbformat": 4,
 "nbformat_minor": 2
}
