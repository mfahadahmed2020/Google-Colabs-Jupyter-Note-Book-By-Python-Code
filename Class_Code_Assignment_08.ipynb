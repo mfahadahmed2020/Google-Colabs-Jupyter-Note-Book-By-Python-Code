{
  "cells": [
    {
      "cell_type": "markdown",
      "metadata": {
        "id": "5WS2gynmeWry"
      },
      "source": [
        "# Python\n",
        "# String Methods\n",
        "\n",
        "# Capitalizes the first letter of the string\n",
        "# Counts occurrences of 'a'\n",
        "# Length of the string\n",
        "# Finds the first occurrence of 'P'\n",
        "# Converts string to uppercase\n",
        "# Converts string to lowercase\n",
        "# Checks if string starts with 'P'\n",
        "# Checks if string ends with 'n'\n",
        "# Replaces 'pakistan' with 'India'\n",
        "# Splits the string at 'a' and returns a list\n",
        "# Checks if all characters are alphabetic\n",
        "# Checks if all characters are digits\n",
        "# Removes any leading or trailing spaces"
      ]
    },
    {
      "cell_type": "code",
      "execution_count": null,
      "metadata": {
        "colab": {
          "base_uri": "https://localhost:8080/"
        },
        "id": "YsJI0bg7d_X1",
        "outputId": "f7993e3a-8002-4267-b9bd-b9962912e95e"
      },
      "outputs": [
        {
          "name": "stdout",
          "output_type": "stream",
          "text": [
            "String capitalize: Pakistan\n",
            "Count of 'a': 2\n",
            "Length of string: 8\n",
            "Find 'P' in string: -1\n",
            "Uppercase version: PAKISTAN\n",
            "Lowercase version: pakistan\n",
            "String starts with 'P': False\n",
            "String ends with 'n': True\n",
            "Replaced string: India\n",
            "Split string: ['p', 'kist', 'n']\n",
            "Is all alphabetic: True\n",
            "Is all digits: False\n",
            "String with spaces removed: pakistan\n"
          ]
        }
      ],
      "source": [
        "name: str = \"pakistan\"\n",
        "name1 = name.capitalize()\n",
        "print(\"String capitalize:\", name1)  # Capitalizes the first letter of the string\n",
        "print(\"Count of 'a':\", name.count(\"a\"))  # Counts occurrences of 'a'\n",
        "print(\"Length of string:\", len(name))  # Length of the string\n",
        "print(\"Find 'P' in string:\", name.find(\"P\"))  # Finds the first occurrence of 'P'\n",
        "print(\"Uppercase version:\", name.upper())  # Converts string to uppercase\n",
        "print(\"Lowercase version:\", name.lower())  # Converts string to lowercase\n",
        "print(\"String starts with 'P':\", name.startswith('P'))  # Checks if string starts with 'P'\n",
        "print(\"String ends with 'n':\", name.endswith('n'))  # Checks if string ends with 'n'\n",
        "print(\"Replaced string:\", name.replace(\"pakistan\", \"India\"))  # Replaces 'pakistan' with 'India'\n",
        "print(\"Split string:\", name.split('a'))  # Splits the string at 'a' and returns a list\n",
        "print(\"Is all alphabetic:\", name.isalpha())  # Checks if all characters are alphabetic\n",
        "print(\"Is all digits:\", name.isdigit())  # Checks if all characters are digits\n",
        "print(\"String with spaces removed:\", name.strip())  # Removes any leading or trailing spaces"
      ]
    },
    {
      "cell_type": "markdown",
      "metadata": {
        "id": "UB03qLtugCbf"
      },
      "source": [
        "# List Methods\n",
        "\n",
        "# 1. Append\n",
        "# 2. Insert\n",
        "# 3. Reverse\n",
        "# 4. Pop\n",
        "# 5. Remove\n",
        "# 6. Sort\n",
        "# 7. Extend\n",
        "# 8. Copy\n",
        "# 9. Index\n",
        "# 10. Count\n",
        "# 11. Clear\n",
        "# 12. Slice"
      ]
    },
    {
      "cell_type": "code",
      "execution_count": null,
      "metadata": {
        "colab": {
          "base_uri": "https://localhost:8080/"
        },
        "id": "GxnrzqtGgrux",
        "outputId": "86484ba3-c75c-4de0-ca14-d3362f75b253"
      },
      "outputs": [
        {
          "name": "stdout",
          "output_type": "stream",
          "text": [
            "Original list: ['Shoaib', 'Tariq Mehta', 'Zaid']\n",
            "After append: ['Shoaib', 'Tariq Mehta', 'Zaid', 'Naveed Chacha']\n",
            "After insert: ['Sir Zia', 'Shoaib', 'Tariq Mehta', 'Zaid', 'Naveed Chacha']\n",
            "After reverse: ['Naveed Chacha', 'Zaid', 'Tariq Mehta', 'Shoaib', 'Sir Zia']\n",
            "After pop: ['Naveed Chacha', 'Zaid', 'Tariq Mehta', 'Shoaib']\n",
            "After remove: ['Naveed Chacha', 'Zaid', 'Tariq Mehta']\n",
            "After sort: ['Naveed Chacha', 'Tariq Mehta', 'Zaid']\n",
            "After extend: ['Naveed Chacha', 'Tariq Mehta', 'Zaid', 'Sir Aneeq', 'Sir Ameen']\n",
            "List copy: ['Naveed Chacha', 'Tariq Mehta', 'Zaid', 'Sir Aneeq', 'Sir Ameen']\n",
            "Index of 'Zaid': 2\n",
            "Count of 'Tariq Mehta': 1\n",
            "After clear: []\n",
            "List slice: ['Tariq Mehta', 'Zaid']\n"
          ]
        }
      ],
      "source": [
        "my_list = ['Shoaib', 'Tariq Mehta', \"Zaid\"]\n",
        "print(\"Original list:\", my_list)\n",
        "\n",
        "# 1. Append\n",
        "my_list.append(\"Naveed Chacha\")\n",
        "print(\"After append:\", my_list)\n",
        "\n",
        "# 2. Insert\n",
        "my_list.insert(0,'Sir Zia')\n",
        "print(\"After insert:\", my_list)\n",
        "\n",
        "# 3. Reverse\n",
        "my_list.reverse()\n",
        "print(\"After reverse:\",my_list)\n",
        "\n",
        "# 4. Pop\n",
        "my_list.pop()\n",
        "print(\"After pop:\", my_list)\n",
        "\n",
        "# 5. Remove\n",
        "my_list.remove('Shoaib')\n",
        "print(\"After remove:\", my_list)\n",
        "\n",
        "# 6. Sort\n",
        "my_list.sort()\n",
        "print(\"After sort:\", my_list)\n",
        "\n",
        "# 7. Extend\n",
        "new_teachers = ['Sir Aneeq', 'Sir Ameen']\n",
        "my_list.extend(new_teachers)\n",
        "print(\"After extend:\", my_list)\n",
        "\n",
        "# 8. Copy\n",
        "my_list_copy = my_list.copy()\n",
        "print(\"List copy:\", my_list_copy)\n",
        "\n",
        "# 9. Index\n",
        "index_of_zaid = my_list.index(\"Zaid\")\n",
        "print(\"Index of 'Zaid':\", index_of_zaid)\n",
        "\n",
        "# 10. Count\n",
        "count_of_tariq = my_list.count(\"Tariq Mehta\")\n",
        "print(\"Count of 'Tariq Mehta':\", count_of_tariq)\n",
        "\n",
        "# 11. Clear\n",
        "my_list.clear()\n",
        "print(\"After clear:\", my_list)\n",
        "\n",
        "# 12. Slice\n",
        "my_list = ['Shoaib', 'Tariq Mehta', \"Zaid\", \"Sir Zia\"]\n",
        "print(\"List slice:\", my_list[1:3])"
      ]
    },
    {
      "cell_type": "markdown",
      "metadata": {
        "id": "LkFe4lq5hi5D"
      },
      "source": [
        "# Tuple Methods\n",
        "#      &\n",
        "#    Index"
      ]
    },
    {
      "cell_type": "code",
      "execution_count": null,
      "metadata": {
        "colab": {
          "base_uri": "https://localhost:8080/"
        },
        "id": "3slhaIBYh4_0",
        "outputId": "3c48beaf-e087-4af2-ae13-bdb112cf73e1"
      },
      "outputs": [
        {
          "name": "stdout",
          "output_type": "stream",
          "text": [
            "Tuple: ('Shoaib', 'Tariq Mehta', 'Zaid', 'Zaid')\n",
            "Count of 'Zaid' in tuple: 2\n",
            "Index of 'Tariq Mehta': 1\n"
          ]
        }
      ],
      "source": [
        "# Tuple Methods\n",
        "my_tuple = ('Shoaib', 'Tariq Mehta', \"Zaid\", 'Zaid')\n",
        "print(\"Tuple:\", my_tuple)\n",
        "count_of_zaid = my_tuple.count(\"Zaid\")\n",
        "print(\"Count of 'Zaid' in tuple:\", count_of_zaid)\n",
        "\n",
        "# Index\n",
        "index_of_tariq = my_tuple.index(\"Tariq Mehta\")\n",
        "print(\"Index of 'Tariq Mehta':\", index_of_tariq)"
      ]
    },
    {
      "cell_type": "markdown",
      "metadata": {
        "id": "9GWur57HiAzA"
      },
      "source": [
        "# Dictionary Methods\n",
        "\n",
        "# 1. Keys\n",
        "# 2. Values\n",
        "# 3. Items\n",
        "# 4. Get\n",
        "# 5. Update\n",
        "# 6. Pop\n",
        "# 7. Pop Item\n",
        "# 8. Clear\n",
        "# 9. Setdefault\n",
        "# 10. Fromkeys\n",
        "# 11. Copy\n",
        "# 12. Contains"
      ]
    },
    {
      "cell_type": "code",
      "execution_count": null,
      "metadata": {
        "colab": {
          "base_uri": "https://localhost:8080/"
        },
        "id": "HZe9hE9QiFix",
        "outputId": "1a594121-02dc-4844-b080-dd80af407647"
      },
      "outputs": [
        {
          "name": "stdout",
          "output_type": "stream",
          "text": [
            "Original Dictionary: {'Name': 'M FAhad Ahmed', 'Gender': 'Male', 'Age': 43}\n",
            "Keys: dict_keys(['Name', 'Gender', 'Age'])\n",
            "Values: dict_values(['M FAhad Ahmed', 'Male', 43])\n",
            "Items: dict_items([('Name', 'M FAhad Ahmed'), ('Gender', 'Male'), ('Age', 43)])\n",
            "Get 'Name': M FAhad Ahmed\n",
            "Updated Dictionary: {'Name': 'M FAhad Ahmed', 'Gender': 'Male', 'Age': 43, 'city': 'Karachi', 'Country': 'Pakistan'}\n",
            "Pop 'Age': 43\n",
            "Dictionary after pop: {'Name': 'M FAhad Ahmed', 'Gender': 'Male', 'city': 'Karachi', 'Country': 'Pakistan'}\n",
            "Pop last item: ('Country', 'Pakistan')\n",
            "Dictionary after pop item: {'Name': 'M FAhad Ahmed', 'Gender': 'Male', 'city': 'Karachi'}\n",
            "Dictionary after clear: {}\n",
            "Setdefault method: {'Name': 'M Fahad Ahmed', 'Age': 30}\n",
            "Fromkeys method: {'a': 10, 'b': 10, 'c': 10}\n",
            "Copy of dictionary: {'Name': 'M Fahad Ahmed', 'Age': 30}\n",
            "'Name' in dictionary: True\n"
          ]
        }
      ],
      "source": [
        "new_dic = {\n",
        "    'Name': 'M FAhad Ahmed',\n",
        "    'Gender': 'Male',\n",
        "    'Age': 43\n",
        "}\n",
        "print(\"Original Dictionary:\", new_dic)\n",
        "\n",
        "# 1. Keys\n",
        "print(\"Keys:\", new_dic.keys())\n",
        "\n",
        "# 2. Values\n",
        "print(\"Values:\", new_dic.values())\n",
        "\n",
        "# 3. Items\n",
        "print(\"Items:\", new_dic.items())\n",
        "\n",
        "# 4. Get\n",
        "print(\"Get 'Name':\", new_dic.get(\"Name\"))\n",
        "\n",
        "# 5. Update\n",
        "new_dic1 = {\"city\" : \"Karachi\"}\n",
        "new_dic2 = {\"Country\": \"Pakistan\"}\n",
        "new_dic.update(new_dic1)\n",
        "new_dic.update(new_dic2)\n",
        "print(\"Updated Dictionary:\", new_dic)\n",
        "\n",
        "# 6. Pop\n",
        "print(\"Pop 'Age':\", new_dic.pop(\"Age\"))\n",
        "print(\"Dictionary after pop:\", new_dic)\n",
        "\n",
        "# 7. Pop Item\n",
        "print(\"Pop last item:\", new_dic.popitem())\n",
        "print(\"Dictionary after pop item:\", new_dic)\n",
        "\n",
        "# 8. Clear\n",
        "new_dic.clear()\n",
        "print(\"Dictionary after clear:\", new_dic)\n",
        "\n",
        "# 9. Setdefault\n",
        "new_dic = {'Name': 'M Fahad Ahmed'}\n",
        "new_dic.setdefault('Age', 30)\n",
        "print(\"Setdefault method:\", new_dic)\n",
        "\n",
        "# 10. Fromkeys\n",
        "new_dict_fromkeys = dict.fromkeys(['a', 'b', 'c'], 10)\n",
        "print(\"Fromkeys method:\", new_dict_fromkeys)\n",
        "\n",
        "# 11. Copy\n",
        "new_dic_copy = new_dic.copy()\n",
        "print(\"Copy of dictionary:\", new_dic_copy)\n",
        "\n",
        "# 12. Contains\n",
        "print(\"'Name' in dictionary:\", 'Name' in new_dic)"
      ]
    },
    {
      "cell_type": "markdown",
      "metadata": {
        "id": "aZvdGtwZivyl"
      },
      "source": [
        "# Code Explanation:\n",
        "\n",
        "# 1. String Methods:\n",
        "#   - capitalize(), count(), len(), find(), upper(), lower(), startswith(), endswith(), replace(), split(), isalpha(), isdigit(), strip().\n",
        "   \n",
        "# 2. List Methods:\n",
        "#   - append(), insert(), reverse(), pop(), remove(), sort(), extend(), copy(), index(), count(), clear(), slice().\n",
        "\n",
        "# 3. Tuple Methods:\n",
        "#   - count(), index().\n",
        "\n",
        "# 4. Dictionary Methods:\n",
        "#   - keys(), values(), items(), get(), update(), pop(), popitem(), clear(), setdefault(), fromkeys(), copy(), contains() (with in operator)."
      ]
    }
  ],
  "metadata": {
    "colab": {
      "provenance": []
    },
    "kernelspec": {
      "display_name": "Python 3",
      "name": "python3"
    },
    "language_info": {
      "name": "python"
    }
  },
  "nbformat": 4,
  "nbformat_minor": 0
}
